{
 "cells": [
  {
   "cell_type": "code",
   "execution_count": 1,
   "id": "f04eeaf3",
   "metadata": {},
   "outputs": [],
   "source": [
    "#importing required packages \n",
    "import datetime\n",
    "from datetime import timedelta\n",
    "import requests\n",
    "import json\n",
    "import pandas as pd\n",
    "import numpy as np\n",
    "import matplotlib.pyplot as plt\n",
    "import pytz\n",
    "import os"
   ]
  },
  {
   "cell_type": "code",
   "execution_count": 2,
   "id": "a12da3a9",
   "metadata": {},
   "outputs": [
    {
     "name": "stdout",
     "output_type": "stream",
     "text": [
      "b'{\\n \"id\": \"2970\",\\n \"display_name\": \"UVA\",\\n \"active\": true\\n}'\n"
     ]
    }
   ],
   "source": [
    "#connecting to the api\n",
    "url = \"https://developer-apis.awair.is/v1/orgs/2970\"\n",
    "payload = {}\n",
    "headers= {'x-api-key':'4iS73nI45Lkt9ydm8i9wb4BADCCKf1Y9'}\n",
    "orgs = requests.request(\"GET\", url, headers=headers, data = payload)\n",
    "\n",
    "print(orgs.text.encode('utf8'))"
   ]
  },
  {
   "cell_type": "code",
   "execution_count": 3,
   "id": "d604763d",
   "metadata": {},
   "outputs": [],
   "source": [
    "#Defining dictionaries for sensor ids and desired variables (keyList) you want to extract\n",
    "#sensor_ids = {\"sensor_name\": \"sensor_id\"}\n",
    "sensor_ids = {\"3\":16198}\n",
    "keyList = [\"pm25\", \"co2\", \"voc\", \"humid\", \"temp\", \"pm10_est\", \"score\", \"lux\", \"spl_a\"]"
   ]
  },
  {
   "cell_type": "code",
   "execution_count": 4,
   "id": "220ce53a",
   "metadata": {},
   "outputs": [],
   "source": [
    "#Define the desired time zone\n",
    "eastern = pytz.timezone('US/Eastern')\n",
    "\n",
    "#Define the year of which you want to extract the data for\n",
    "desired_year = 2021\n",
    "\n",
    "#Define the month of which you want to extract the data for\n",
    "desired_month = 10\n",
    "\n",
    "#Define the start day for the range you want to extract the data from\n",
    "start_day = 8\n",
    "\n",
    "#Define the end day for the range you want to extract the data from\n",
    "end_day = 10"
   ]
  },
  {
   "cell_type": "code",
   "execution_count": null,
   "id": "4b1a549a",
   "metadata": {},
   "outputs": [],
   "source": [
    "for sensors, ids in sensor_ids.items():\n",
    "    datadict = {}\n",
    "    for i in keyList:\n",
    "        datadict[i] = []\n",
    "    for day in range(start_day,end_day):\n",
    "        for hour in range(24):\n",
    "                \n",
    "            t = datetime.datetime(desired_year, desired_month, day, hour, 0, 0)\n",
    "        \n",
    "            x = t + timedelta(hours = 1)\n",
    "            \n",
    "            t = t.isoformat()\n",
    "            x = x.isoformat()\n",
    "            url = \"https://developer-apis.awair.is/v1/orgs/2970/devices/awair-omni/{}/air-data/raw?from={}&to={}&limit=360&desc=false&fahrenheit=false\".format(ids,t, x)\n",
    "        \n",
    "                \n",
    "            devices = requests.request(\"GET\", url, headers=headers, data = payload)\n",
    "            a = devices.text.encode('utf8')\n",
    "            \n",
    "            a = json.loads(a)\n",
    "            \n",
    "            \n",
    "            for i in range(len(a['data'])):\n",
    "                for j in range(len(a[\"data\"][i][\"sensors\"])):                        \n",
    "                    if a[\"data\"][i][\"sensors\"][j]['comp'] in datadict.keys():\n",
    "                        print(a['data'][i]['timestamp'])\n",
    "                        datadict[a[\"data\"][i][\"sensors\"][j]['comp']].append([a['data'][i]['timestamp'], a[\"data\"][i][\"sensors\"][j]['value']])\n",
    "                        \n",
    "                        \n",
    "    \n",
    "    for ikey, key in zip(range(len(datadict.keys())), datadict.keys()):\n",
    "        column_names_key = [\"timestamp\", key]\n",
    "        df_key = pd.DataFrame(datadict[key], columns = column_names_key)\n",
    "        \n",
    "        if ikey == 0:\n",
    "            df_all_key = df_key.copy()\n",
    "        \n",
    "        elif ikey > 0:\n",
    "            df_all_key = pd.merge(df_all_key, df_key, on='timestamp')\n",
    "    \n",
    "    \n",
    "    final_file = df_all_key.reset_index()\n",
    "    final_file = final_file.set_index(pd.DatetimeIndex(final_file['timestamp']))\n",
    "    final_file = final_file.drop(['index'], axis=1)\n",
    "    final_file = final_file.drop(['timestamp'], axis=1)\n",
    "    # final_file = final_file[~final_file.index.duplicated()] \n",
    "    final_file.index = final_file.index.tz_localize.tz_convert(eastern)\n",
    "    final_file.to_csv('data_sensor_{}.csv'.format(sensors))\n",
    "    print(\"file is saved\")"
   ]
  },
  {
   "cell_type": "code",
   "execution_count": null,
   "id": "ea7dfb0b",
   "metadata": {},
   "outputs": [],
   "source": []
  }
 ],
 "metadata": {
  "kernelspec": {
   "display_name": "Python 3",
   "language": "python",
   "name": "python3"
  },
  "language_info": {
   "codemirror_mode": {
    "name": "ipython",
    "version": 3
   },
   "file_extension": ".py",
   "mimetype": "text/x-python",
   "name": "python",
   "nbconvert_exporter": "python",
   "pygments_lexer": "ipython3",
   "version": "3.8.3"
  }
 },
 "nbformat": 4,
 "nbformat_minor": 5
}
